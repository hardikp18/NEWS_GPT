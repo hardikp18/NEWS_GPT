{
 "cells": [
  {
   "cell_type": "code",
   "execution_count": 2,
   "metadata": {},
   "outputs": [],
   "source": [
    "import numpy as np \n",
    "import pandas as pd\n",
    "import time\n",
    "import json"
   ]
  },
  {
   "cell_type": "code",
   "execution_count": 5,
   "metadata": {},
   "outputs": [
    {
     "ename": "KeyboardInterrupt",
     "evalue": "",
     "output_type": "error",
     "traceback": [
      "\u001b[1;31m---------------------------------------------------------------------------\u001b[0m",
      "\u001b[1;31mKeyboardInterrupt\u001b[0m                         Traceback (most recent call last)",
      "Cell \u001b[1;32mIn [5], line 20\u001b[0m\n\u001b[0;32m     17\u001b[0m \u001b[38;5;28;01mwith\u001b[39;00m \u001b[38;5;28mopen\u001b[39m(csv_path, \u001b[38;5;124m'\u001b[39m\u001b[38;5;124mw\u001b[39m\u001b[38;5;124m'\u001b[39m) \u001b[38;5;28;01mas\u001b[39;00m outfile:\n\u001b[0;32m     18\u001b[0m     \u001b[38;5;28;01mfor\u001b[39;00m obj \u001b[38;5;129;01min\u001b[39;00m formatted_rows:\n\u001b[0;32m     19\u001b[0m         \u001b[38;5;66;03m# Update the progress bar\u001b[39;00m\n\u001b[1;32m---> 20\u001b[0m         time\u001b[38;5;241m.\u001b[39msleep(\u001b[38;5;241m0.1\u001b[39m)\n\u001b[0;32m     21\u001b[0m         current_progress \u001b[38;5;241m=\u001b[39m (\u001b[38;5;28mlen\u001b[39m(formatted_rows) \u001b[38;5;241m/\u001b[39m total_rows)\n\u001b[0;32m     22\u001b[0m         outfile\u001b[38;5;241m.\u001b[39mwrite(json\u001b[38;5;241m.\u001b[39mdumps(obj) \u001b[38;5;241m+\u001b[39m \u001b[38;5;124m'\u001b[39m\u001b[38;5;130;01m\\n\u001b[39;00m\u001b[38;5;124m'\u001b[39m)\n",
      "\u001b[1;31mKeyboardInterrupt\u001b[0m: "
     ]
    }
   ],
   "source": [
    "df = pd.read_csv(\"Business_News.csv\")\n",
    "csv_path=\"csv.jsonl\"\n",
    "\n",
    "\n",
    "total_rows = len(df)\n",
    "\n",
    "    # Format the DataFrame rows and write to a jsonlines file\n",
    "formatted_rows = []\n",
    "\n",
    "for _, row in df.iterrows():\n",
    "        # Format each row and append to the list\n",
    "    formatted_rows.append(\n",
    "        {\"doc\": ', '.join([f\"{title}: {value}\" for title, value in row.items()])}\n",
    "    )\n",
    "\n",
    "    # Write the formatted rows to the jsonlines file\n",
    "with open(csv_path, 'w') as outfile:\n",
    "    for obj in formatted_rows:\n",
    "        # Update the progress bar\n",
    "        time.sleep(0.1)\n",
    "        current_progress = (len(formatted_rows) / total_rows)\n",
    "        outfile.write(json.dumps(obj) + '\\n')\n",
    "\n",
    "# Finish progress bar when done\n",
    "print(\"Done\")\n"
   ]
  },
  {
   "cell_type": "code",
   "execution_count": null,
   "metadata": {},
   "outputs": [],
   "source": []
  },
  {
   "cell_type": "code",
   "execution_count": null,
   "metadata": {},
   "outputs": [],
   "source": []
  },
  {
   "cell_type": "code",
   "execution_count": null,
   "metadata": {},
   "outputs": [],
   "source": []
  }
 ],
 "metadata": {
  "kernelspec": {
   "display_name": "news",
   "language": "python",
   "name": "python3"
  },
  "language_info": {
   "codemirror_mode": {
    "name": "ipython",
    "version": 3
   },
   "file_extension": ".py",
   "mimetype": "text/x-python",
   "name": "python",
   "nbconvert_exporter": "python",
   "pygments_lexer": "ipython3",
   "version": "3.10.13"
  }
 },
 "nbformat": 4,
 "nbformat_minor": 2
}
